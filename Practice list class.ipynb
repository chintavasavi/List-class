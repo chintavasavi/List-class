{
 "cells": [
  {
   "cell_type": "code",
   "execution_count": 1,
   "id": "f459b6bb",
   "metadata": {},
   "outputs": [],
   "source": [
    "My_list =[1,2,3,5]"
   ]
  },
  {
   "cell_type": "code",
   "execution_count": 2,
   "id": "4ceff0fe",
   "metadata": {},
   "outputs": [
    {
     "name": "stdout",
     "output_type": "stream",
     "text": [
      "[1, 2, 3, 5]\n"
     ]
    }
   ],
   "source": [
    "print(My_list)"
   ]
  },
  {
   "cell_type": "code",
   "execution_count": 3,
   "id": "3fd9259c",
   "metadata": {},
   "outputs": [
    {
     "data": {
      "text/plain": [
       "list"
      ]
     },
     "execution_count": 3,
     "metadata": {},
     "output_type": "execute_result"
    }
   ],
   "source": [
    "type(My_list)"
   ]
  },
  {
   "cell_type": "code",
   "execution_count": 4,
   "id": "ca235fb6",
   "metadata": {},
   "outputs": [
    {
     "data": {
      "text/plain": [
       "2898070700928"
      ]
     },
     "execution_count": 4,
     "metadata": {},
     "output_type": "execute_result"
    }
   ],
   "source": [
    "id(My_list)"
   ]
  },
  {
   "cell_type": "code",
   "execution_count": 5,
   "id": "53bf7bfb",
   "metadata": {},
   "outputs": [
    {
     "data": {
      "text/plain": [
       "4"
      ]
     },
     "execution_count": 5,
     "metadata": {},
     "output_type": "execute_result"
    }
   ],
   "source": [
    "len((My_list))"
   ]
  },
  {
   "cell_type": "markdown",
   "id": "ae2e7ef3",
   "metadata": {},
   "source": [
    "Basic Data types are imMutable"
   ]
  },
  {
   "cell_type": "code",
   "execution_count": 10,
   "id": "1a634b83",
   "metadata": {},
   "outputs": [],
   "source": [
    "list = [1,2,3,4]"
   ]
  },
  {
   "cell_type": "code",
   "execution_count": 12,
   "id": "f157de21",
   "metadata": {},
   "outputs": [],
   "source": [
    "list.append(5)"
   ]
  },
  {
   "cell_type": "code",
   "execution_count": 13,
   "id": "5aa254fb",
   "metadata": {},
   "outputs": [
    {
     "data": {
      "text/plain": [
       "[1, 2, 3, 4, 5]"
      ]
     },
     "execution_count": 13,
     "metadata": {},
     "output_type": "execute_result"
    }
   ],
   "source": [
    "list"
   ]
  },
  {
   "cell_type": "code",
   "execution_count": 14,
   "id": "d637559a",
   "metadata": {},
   "outputs": [
    {
     "data": {
      "text/plain": [
       "[1, 2, 3, 4, 5]"
      ]
     },
     "execution_count": 14,
     "metadata": {},
     "output_type": "execute_result"
    }
   ],
   "source": [
    "list"
   ]
  },
  {
   "cell_type": "code",
   "execution_count": 15,
   "id": "b8a4315e",
   "metadata": {},
   "outputs": [
    {
     "ename": "TypeError",
     "evalue": "'list' object is not callable",
     "output_type": "error",
     "traceback": [
      "\u001b[1;31m---------------------------------------------------------------------------\u001b[0m",
      "\u001b[1;31mTypeError\u001b[0m                                 Traceback (most recent call last)",
      "Cell \u001b[1;32mIn[15], line 1\u001b[0m\n\u001b[1;32m----> 1\u001b[0m \u001b[38;5;28mlist\u001b[39m(\u001b[38;5;241m4\u001b[39m)\n",
      "\u001b[1;31mTypeError\u001b[0m: 'list' object is not callable"
     ]
    }
   ],
   "source": [
    "list(4)"
   ]
  },
  {
   "cell_type": "markdown",
   "id": "eb4dea3b",
   "metadata": {},
   "source": [
    "Mutability"
   ]
  },
  {
   "cell_type": "code",
   "execution_count": 16,
   "id": "c0b61b23",
   "metadata": {},
   "outputs": [],
   "source": [
    "list1 = [2,5,\"Hello\",True,5]"
   ]
  },
  {
   "cell_type": "code",
   "execution_count": 17,
   "id": "cf42ebdc",
   "metadata": {},
   "outputs": [],
   "source": [
    "list1.append(3+4j)"
   ]
  },
  {
   "cell_type": "code",
   "execution_count": 18,
   "id": "629cc005",
   "metadata": {},
   "outputs": [
    {
     "data": {
      "text/plain": [
       "[2, 5, 'Hello', True, 5, (3+4j)]"
      ]
     },
     "execution_count": 18,
     "metadata": {},
     "output_type": "execute_result"
    }
   ],
   "source": [
    "list1"
   ]
  },
  {
   "cell_type": "markdown",
   "id": "9669e77a",
   "metadata": {},
   "source": [
    "Ordered"
   ]
  },
  {
   "cell_type": "code",
   "execution_count": 19,
   "id": "4b8f83ad",
   "metadata": {},
   "outputs": [
    {
     "data": {
      "text/plain": [
       "[2, 5, 'Hello', True, 5, (3+4j)]"
      ]
     },
     "execution_count": 19,
     "metadata": {},
     "output_type": "execute_result"
    }
   ],
   "source": [
    "list1"
   ]
  },
  {
   "cell_type": "code",
   "execution_count": 20,
   "id": "d4696688",
   "metadata": {},
   "outputs": [
    {
     "data": {
      "text/plain": [
       "['Hello', True, 5]"
      ]
     },
     "execution_count": 20,
     "metadata": {},
     "output_type": "execute_result"
    }
   ],
   "source": [
    "list1[2:5]"
   ]
  },
  {
   "cell_type": "markdown",
   "id": "f4e3e92d",
   "metadata": {},
   "source": [
    "Duplicates"
   ]
  },
  {
   "cell_type": "code",
   "execution_count": 21,
   "id": "f4e1fcbb",
   "metadata": {},
   "outputs": [],
   "source": [
    "a = [\"python\",1,1,\"python\",\"true\",\"python\"]"
   ]
  },
  {
   "cell_type": "code",
   "execution_count": 22,
   "id": "0dea2688",
   "metadata": {},
   "outputs": [
    {
     "data": {
      "text/plain": [
       "['python', 1, 1, 'python', 'true', 'python']"
      ]
     },
     "execution_count": 22,
     "metadata": {},
     "output_type": "execute_result"
    }
   ],
   "source": [
    "a"
   ]
  },
  {
   "cell_type": "code",
   "execution_count": 24,
   "id": "4fc85ace",
   "metadata": {},
   "outputs": [],
   "source": [
    "l_s = [\"python\",\"java\",\"c\",\"true\",\"innomatics\"]"
   ]
  },
  {
   "cell_type": "code",
   "execution_count": 26,
   "id": "21a8d0f5",
   "metadata": {},
   "outputs": [
    {
     "data": {
      "text/plain": [
       "'true'"
      ]
     },
     "execution_count": 26,
     "metadata": {},
     "output_type": "execute_result"
    }
   ],
   "source": [
    "l_s[3]"
   ]
  },
  {
   "cell_type": "code",
   "execution_count": 27,
   "id": "cb00d1c9",
   "metadata": {},
   "outputs": [
    {
     "data": {
      "text/plain": [
       "'u'"
      ]
     },
     "execution_count": 27,
     "metadata": {},
     "output_type": "execute_result"
    }
   ],
   "source": [
    "l_s[3][2]"
   ]
  },
  {
   "cell_type": "code",
   "execution_count": 28,
   "id": "a7cb769f",
   "metadata": {},
   "outputs": [],
   "source": [
    "list1= [\"python\",\"programming\",\"language\"]"
   ]
  },
  {
   "cell_type": "code",
   "execution_count": 34,
   "id": "38a21ee1",
   "metadata": {},
   "outputs": [
    {
     "data": {
      "text/plain": [
       "'pro'"
      ]
     },
     "execution_count": 34,
     "metadata": {},
     "output_type": "execute_result"
    }
   ],
   "source": [
    "list1[1][0:3]"
   ]
  },
  {
   "cell_type": "markdown",
   "id": "46703825",
   "metadata": {},
   "source": [
    "# Mathematical functions"
   ]
  },
  {
   "cell_type": "code",
   "execution_count": 35,
   "id": "a2d3ae36",
   "metadata": {},
   "outputs": [],
   "source": [
    "l = [10,12,14,50,75]"
   ]
  },
  {
   "cell_type": "code",
   "execution_count": 37,
   "id": "3f505f86",
   "metadata": {},
   "outputs": [
    {
     "data": {
      "text/plain": [
       "75"
      ]
     },
     "execution_count": 37,
     "metadata": {},
     "output_type": "execute_result"
    }
   ],
   "source": [
    "max(l)"
   ]
  },
  {
   "cell_type": "code",
   "execution_count": 38,
   "id": "bcb31d0b",
   "metadata": {},
   "outputs": [
    {
     "data": {
      "text/plain": [
       "10"
      ]
     },
     "execution_count": 38,
     "metadata": {},
     "output_type": "execute_result"
    }
   ],
   "source": [
    "min(l)"
   ]
  },
  {
   "cell_type": "code",
   "execution_count": 39,
   "id": "a5eb670f",
   "metadata": {},
   "outputs": [
    {
     "data": {
      "text/plain": [
       "161"
      ]
     },
     "execution_count": 39,
     "metadata": {},
     "output_type": "execute_result"
    }
   ],
   "source": [
    "sum(l)"
   ]
  },
  {
   "cell_type": "code",
   "execution_count": 40,
   "id": "2938259c",
   "metadata": {},
   "outputs": [],
   "source": [
    "l1 = [\"apple\",\"mango\",\"grape\"]"
   ]
  },
  {
   "cell_type": "code",
   "execution_count": 41,
   "id": "fded9e82",
   "metadata": {},
   "outputs": [
    {
     "data": {
      "text/plain": [
       "'mango'"
      ]
     },
     "execution_count": 41,
     "metadata": {},
     "output_type": "execute_result"
    }
   ],
   "source": [
    "max(l1)"
   ]
  },
  {
   "cell_type": "code",
   "execution_count": 42,
   "id": "f300b826",
   "metadata": {},
   "outputs": [
    {
     "data": {
      "text/plain": [
       "'apple'"
      ]
     },
     "execution_count": 42,
     "metadata": {},
     "output_type": "execute_result"
    }
   ],
   "source": [
    "min(l1)"
   ]
  },
  {
   "cell_type": "code",
   "execution_count": 44,
   "id": "3c789ca7",
   "metadata": {},
   "outputs": [
    {
     "data": {
      "text/plain": [
       "97"
      ]
     },
     "execution_count": 44,
     "metadata": {},
     "output_type": "execute_result"
    }
   ],
   "source": [
    "ord('a')"
   ]
  },
  {
   "cell_type": "code",
   "execution_count": 45,
   "id": "139082ab",
   "metadata": {},
   "outputs": [
    {
     "data": {
      "text/plain": [
       "103"
      ]
     },
     "execution_count": 45,
     "metadata": {},
     "output_type": "execute_result"
    }
   ],
   "source": [
    "ord('g')"
   ]
  },
  {
   "cell_type": "markdown",
   "id": "ac8a39ac",
   "metadata": {},
   "source": [
    "# List Methods/Functions"
   ]
  },
  {
   "cell_type": "code",
   "execution_count": 1,
   "id": "874b1ea0",
   "metadata": {},
   "outputs": [],
   "source": [
    "list3 = [1,14,21,12,34,87]"
   ]
  },
  {
   "cell_type": "code",
   "execution_count": 2,
   "id": "45693e78",
   "metadata": {},
   "outputs": [],
   "source": [
    "list3.append(100)"
   ]
  },
  {
   "cell_type": "code",
   "execution_count": 3,
   "id": "362585c8",
   "metadata": {},
   "outputs": [
    {
     "data": {
      "text/plain": [
       "[1, 14, 21, 12, 34, 87, 100]"
      ]
     },
     "execution_count": 3,
     "metadata": {},
     "output_type": "execute_result"
    }
   ],
   "source": [
    "list3"
   ]
  },
  {
   "cell_type": "code",
   "execution_count": 4,
   "id": "341d667e",
   "metadata": {},
   "outputs": [
    {
     "ename": "TypeError",
     "evalue": "list.append() takes exactly one argument (2 given)",
     "output_type": "error",
     "traceback": [
      "\u001b[1;31m---------------------------------------------------------------------------\u001b[0m",
      "\u001b[1;31mTypeError\u001b[0m                                 Traceback (most recent call last)",
      "Cell \u001b[1;32mIn[4], line 1\u001b[0m\n\u001b[1;32m----> 1\u001b[0m list3\u001b[38;5;241m.\u001b[39mappend(\u001b[38;5;241m150\u001b[39m,\u001b[38;5;241m200\u001b[39m)\n",
      "\u001b[1;31mTypeError\u001b[0m: list.append() takes exactly one argument (2 given)"
     ]
    }
   ],
   "source": [
    "list3.append(150,200)"
   ]
  },
  {
   "cell_type": "code",
   "execution_count": 5,
   "id": "48646c33",
   "metadata": {},
   "outputs": [],
   "source": [
    "list3.append(140)"
   ]
  },
  {
   "cell_type": "code",
   "execution_count": 6,
   "id": "0f08ad22",
   "metadata": {},
   "outputs": [
    {
     "data": {
      "text/plain": [
       "[1, 14, 21, 12, 34, 87, 100, 140]"
      ]
     },
     "execution_count": 6,
     "metadata": {},
     "output_type": "execute_result"
    }
   ],
   "source": [
    "list3"
   ]
  },
  {
   "cell_type": "code",
   "execution_count": 8,
   "id": "54aae370",
   "metadata": {},
   "outputs": [],
   "source": [
    "list3.insert(2,444)"
   ]
  },
  {
   "cell_type": "code",
   "execution_count": 9,
   "id": "55e41672",
   "metadata": {},
   "outputs": [
    {
     "data": {
      "text/plain": [
       "[1, 14, 444, 21, 12, 34, 87, 100, 140]"
      ]
     },
     "execution_count": 9,
     "metadata": {},
     "output_type": "execute_result"
    }
   ],
   "source": [
    "list3"
   ]
  },
  {
   "cell_type": "code",
   "execution_count": 10,
   "id": "e7ab0466",
   "metadata": {},
   "outputs": [],
   "source": [
    "list3.insert(1,100)"
   ]
  },
  {
   "cell_type": "code",
   "execution_count": 11,
   "id": "433272ba",
   "metadata": {},
   "outputs": [
    {
     "data": {
      "text/plain": [
       "[1, 100, 14, 444, 21, 12, 34, 87, 100, 140]"
      ]
     },
     "execution_count": 11,
     "metadata": {},
     "output_type": "execute_result"
    }
   ],
   "source": [
    "list3"
   ]
  },
  {
   "cell_type": "markdown",
   "id": "e8e2eae6",
   "metadata": {},
   "source": [
    "# Extend"
   ]
  },
  {
   "cell_type": "code",
   "execution_count": 12,
   "id": "aebfe7fe",
   "metadata": {},
   "outputs": [
    {
     "data": {
      "text/plain": [
       "[1, 100, 14, 444, 21, 12, 34, 87, 100, 140]"
      ]
     },
     "execution_count": 12,
     "metadata": {},
     "output_type": "execute_result"
    }
   ],
   "source": [
    "list3"
   ]
  },
  {
   "cell_type": "code",
   "execution_count": 13,
   "id": "e354f22a",
   "metadata": {},
   "outputs": [],
   "source": [
    "list3.extend([0,1,2])"
   ]
  },
  {
   "cell_type": "code",
   "execution_count": 14,
   "id": "4c1fee26",
   "metadata": {},
   "outputs": [
    {
     "data": {
      "text/plain": [
       "[1, 100, 14, 444, 21, 12, 34, 87, 100, 140, 0, 1, 2]"
      ]
     },
     "execution_count": 14,
     "metadata": {},
     "output_type": "execute_result"
    }
   ],
   "source": [
    "list3"
   ]
  },
  {
   "cell_type": "code",
   "execution_count": 15,
   "id": "56704701",
   "metadata": {},
   "outputs": [],
   "source": [
    "list3.append([2,3,5])"
   ]
  },
  {
   "cell_type": "code",
   "execution_count": 16,
   "id": "3bcc476e",
   "metadata": {},
   "outputs": [
    {
     "data": {
      "text/plain": [
       "[1, 100, 14, 444, 21, 12, 34, 87, 100, 140, 0, 1, 2, [2, 3, 5]]"
      ]
     },
     "execution_count": 16,
     "metadata": {},
     "output_type": "execute_result"
    }
   ],
   "source": [
    "list3"
   ]
  },
  {
   "cell_type": "markdown",
   "id": "12f18e10",
   "metadata": {},
   "source": [
    "# Removing the values"
   ]
  },
  {
   "cell_type": "code",
   "execution_count": 17,
   "id": "5e890101",
   "metadata": {},
   "outputs": [
    {
     "data": {
      "text/plain": [
       "[1, 100, 14, 444, 21, 12, 34, 87, 100, 140, 0, 1, 2, [2, 3, 5]]"
      ]
     },
     "execution_count": 17,
     "metadata": {},
     "output_type": "execute_result"
    }
   ],
   "source": [
    "list3"
   ]
  },
  {
   "cell_type": "code",
   "execution_count": 19,
   "id": "6ddf542d",
   "metadata": {},
   "outputs": [],
   "source": [
    "list3.remove(14)"
   ]
  },
  {
   "cell_type": "code",
   "execution_count": 20,
   "id": "4dc1890d",
   "metadata": {},
   "outputs": [
    {
     "data": {
      "text/plain": [
       "[1, 100, 444, 21, 12, 34, 87, 100, 140, 0, 1, 2, [2, 3, 5]]"
      ]
     },
     "execution_count": 20,
     "metadata": {},
     "output_type": "execute_result"
    }
   ],
   "source": [
    "list3"
   ]
  },
  {
   "cell_type": "code",
   "execution_count": 21,
   "id": "e18d7b66",
   "metadata": {},
   "outputs": [
    {
     "data": {
      "text/plain": [
       "[2, 3, 5]"
      ]
     },
     "execution_count": 21,
     "metadata": {},
     "output_type": "execute_result"
    }
   ],
   "source": [
    "list3.pop()"
   ]
  },
  {
   "cell_type": "code",
   "execution_count": 22,
   "id": "ff2872cd",
   "metadata": {},
   "outputs": [
    {
     "data": {
      "text/plain": [
       "2"
      ]
     },
     "execution_count": 22,
     "metadata": {},
     "output_type": "execute_result"
    }
   ],
   "source": [
    "list3.pop(-1)"
   ]
  },
  {
   "cell_type": "code",
   "execution_count": 23,
   "id": "7241b94d",
   "metadata": {},
   "outputs": [
    {
     "data": {
      "text/plain": [
       "[1, 100, 444, 21, 12, 34, 87, 100, 140, 0, 1]"
      ]
     },
     "execution_count": 23,
     "metadata": {},
     "output_type": "execute_result"
    }
   ],
   "source": [
    "list3"
   ]
  },
  {
   "cell_type": "code",
   "execution_count": 24,
   "id": "b708a12a",
   "metadata": {},
   "outputs": [
    {
     "data": {
      "text/plain": [
       "11"
      ]
     },
     "execution_count": 24,
     "metadata": {},
     "output_type": "execute_result"
    }
   ],
   "source": [
    "len(list3)"
   ]
  },
  {
   "cell_type": "code",
   "execution_count": 25,
   "id": "bce9cd55",
   "metadata": {},
   "outputs": [],
   "source": [
    "list3.clear()"
   ]
  },
  {
   "cell_type": "code",
   "execution_count": 26,
   "id": "26786073",
   "metadata": {},
   "outputs": [
    {
     "data": {
      "text/plain": [
       "[]"
      ]
     },
     "execution_count": 26,
     "metadata": {},
     "output_type": "execute_result"
    }
   ],
   "source": [
    "list3"
   ]
  },
  {
   "cell_type": "code",
   "execution_count": 29,
   "id": "8f966b4b",
   "metadata": {},
   "outputs": [
    {
     "ename": "NameError",
     "evalue": "name 'list3' is not defined",
     "output_type": "error",
     "traceback": [
      "\u001b[1;31m---------------------------------------------------------------------------\u001b[0m",
      "\u001b[1;31mNameError\u001b[0m                                 Traceback (most recent call last)",
      "Cell \u001b[1;32mIn[29], line 1\u001b[0m\n\u001b[1;32m----> 1\u001b[0m \u001b[38;5;28;01mdel\u001b[39;00m list3\n",
      "\u001b[1;31mNameError\u001b[0m: name 'list3' is not defined"
     ]
    }
   ],
   "source": [
    "del list3"
   ]
  },
  {
   "cell_type": "markdown",
   "id": "bb9448f7",
   "metadata": {},
   "source": [
    "# Adding Elements"
   ]
  },
  {
   "cell_type": "code",
   "execution_count": 31,
   "id": "aef59ada",
   "metadata": {},
   "outputs": [],
   "source": [
    "list3 = [1,14,21,12,34,87]"
   ]
  },
  {
   "cell_type": "code",
   "execution_count": 32,
   "id": "5469c93e",
   "metadata": {},
   "outputs": [
    {
     "data": {
      "text/plain": [
       "[1, 14, 21, 12, 34, 87]"
      ]
     },
     "execution_count": 32,
     "metadata": {},
     "output_type": "execute_result"
    }
   ],
   "source": [
    "list3"
   ]
  },
  {
   "cell_type": "code",
   "execution_count": 34,
   "id": "1d0bd2fe",
   "metadata": {},
   "outputs": [],
   "source": [
    "list3.extend([24,45])"
   ]
  },
  {
   "cell_type": "code",
   "execution_count": 35,
   "id": "4f965ba9",
   "metadata": {},
   "outputs": [
    {
     "data": {
      "text/plain": [
       "[1, 14, 21, 12, 34, 87, 24, 45]"
      ]
     },
     "execution_count": 35,
     "metadata": {},
     "output_type": "execute_result"
    }
   ],
   "source": [
    "list3"
   ]
  },
  {
   "cell_type": "code",
   "execution_count": 36,
   "id": "bef512ce",
   "metadata": {},
   "outputs": [
    {
     "data": {
      "text/plain": [
       "[1, 14, 21, 12, 34, 87, 24, 45, 100, 150]"
      ]
     },
     "execution_count": 36,
     "metadata": {},
     "output_type": "execute_result"
    }
   ],
   "source": [
    "list3 + ([100,150])"
   ]
  },
  {
   "cell_type": "code",
   "execution_count": 37,
   "id": "cd02ae97",
   "metadata": {},
   "outputs": [
    {
     "data": {
      "text/plain": [
       "[1, 14, 21, 12, 34, 87, 24, 45]"
      ]
     },
     "execution_count": 37,
     "metadata": {},
     "output_type": "execute_result"
    }
   ],
   "source": [
    "list3"
   ]
  },
  {
   "cell_type": "code",
   "execution_count": 3,
   "id": "aa7a89f8",
   "metadata": {},
   "outputs": [],
   "source": [
    "list2 = [\"Hello\",1,2]"
   ]
  },
  {
   "cell_type": "code",
   "execution_count": 4,
   "id": "b0ce178a",
   "metadata": {},
   "outputs": [
    {
     "data": {
      "text/plain": [
       "['Hello', 1, 2]"
      ]
     },
     "execution_count": 4,
     "metadata": {},
     "output_type": "execute_result"
    }
   ],
   "source": [
    "list2"
   ]
  },
  {
   "cell_type": "code",
   "execution_count": 5,
   "id": "91142d75",
   "metadata": {},
   "outputs": [
    {
     "data": {
      "text/plain": [
       "['Hello', 1, 2, 'Hello', 1, 2, 'Hello', 1, 2, 'Hello', 1, 2]"
      ]
     },
     "execution_count": 5,
     "metadata": {},
     "output_type": "execute_result"
    }
   ],
   "source": [
    "list2 * 4"
   ]
  },
  {
   "cell_type": "code",
   "execution_count": 6,
   "id": "98f85d1e",
   "metadata": {},
   "outputs": [
    {
     "data": {
      "text/plain": [
       "['Hello', 1, 2]"
      ]
     },
     "execution_count": 6,
     "metadata": {},
     "output_type": "execute_result"
    }
   ],
   "source": [
    "list2"
   ]
  },
  {
   "cell_type": "code",
   "execution_count": 7,
   "id": "e9010706",
   "metadata": {},
   "outputs": [],
   "source": [
    "l1 = list2.copy()"
   ]
  },
  {
   "cell_type": "code",
   "execution_count": 8,
   "id": "d06e1895",
   "metadata": {},
   "outputs": [
    {
     "data": {
      "text/plain": [
       "['Hello', 1, 2]"
      ]
     },
     "execution_count": 8,
     "metadata": {},
     "output_type": "execute_result"
    }
   ],
   "source": [
    "l1"
   ]
  },
  {
   "cell_type": "code",
   "execution_count": 9,
   "id": "1930c842",
   "metadata": {},
   "outputs": [],
   "source": [
    "l1.append(3)"
   ]
  },
  {
   "cell_type": "code",
   "execution_count": 10,
   "id": "141cd789",
   "metadata": {},
   "outputs": [
    {
     "data": {
      "text/plain": [
       "['Hello', 1, 2, 3]"
      ]
     },
     "execution_count": 10,
     "metadata": {},
     "output_type": "execute_result"
    }
   ],
   "source": [
    "l1"
   ]
  },
  {
   "cell_type": "code",
   "execution_count": 11,
   "id": "08872cd1",
   "metadata": {},
   "outputs": [],
   "source": [
    "l1.append(\"hi\")"
   ]
  },
  {
   "cell_type": "code",
   "execution_count": 12,
   "id": "9f3a0792",
   "metadata": {},
   "outputs": [
    {
     "data": {
      "text/plain": [
       "['Hello', 1, 2, 3, 'hi']"
      ]
     },
     "execution_count": 12,
     "metadata": {},
     "output_type": "execute_result"
    }
   ],
   "source": [
    "l1"
   ]
  },
  {
   "cell_type": "code",
   "execution_count": 13,
   "id": "fbca1dff",
   "metadata": {},
   "outputs": [
    {
     "data": {
      "text/plain": [
       "1"
      ]
     },
     "execution_count": 13,
     "metadata": {},
     "output_type": "execute_result"
    }
   ],
   "source": [
    "list2.count(1)"
   ]
  },
  {
   "cell_type": "code",
   "execution_count": 14,
   "id": "093047b3",
   "metadata": {},
   "outputs": [
    {
     "data": {
      "text/plain": [
       "['Hello', 1, 2]"
      ]
     },
     "execution_count": 14,
     "metadata": {},
     "output_type": "execute_result"
    }
   ],
   "source": [
    "list2"
   ]
  },
  {
   "cell_type": "code",
   "execution_count": 15,
   "id": "8dea2c92",
   "metadata": {},
   "outputs": [
    {
     "ename": "ValueError",
     "evalue": "1 is not in list",
     "output_type": "error",
     "traceback": [
      "\u001b[1;31m---------------------------------------------------------------------------\u001b[0m",
      "\u001b[1;31mValueError\u001b[0m                                Traceback (most recent call last)",
      "Cell \u001b[1;32mIn[15], line 1\u001b[0m\n\u001b[1;32m----> 1\u001b[0m l1\u001b[38;5;241m.\u001b[39mindex(\u001b[38;5;241m1\u001b[39m,\u001b[38;5;241m3\u001b[39m)\n",
      "\u001b[1;31mValueError\u001b[0m: 1 is not in list"
     ]
    }
   ],
   "source": [
    "l1.index(1,3)"
   ]
  },
  {
   "cell_type": "code",
   "execution_count": 16,
   "id": "1aeead2a",
   "metadata": {},
   "outputs": [
    {
     "data": {
      "text/plain": [
       "['Hello', 1, 2]"
      ]
     },
     "execution_count": 16,
     "metadata": {},
     "output_type": "execute_result"
    }
   ],
   "source": [
    "list2"
   ]
  },
  {
   "cell_type": "code",
   "execution_count": 17,
   "id": "877dfd41",
   "metadata": {},
   "outputs": [],
   "source": [
    "list2.reverse()"
   ]
  },
  {
   "cell_type": "code",
   "execution_count": 18,
   "id": "3e21d68b",
   "metadata": {},
   "outputs": [
    {
     "data": {
      "text/plain": [
       "[2, 1, 'Hello']"
      ]
     },
     "execution_count": 18,
     "metadata": {},
     "output_type": "execute_result"
    }
   ],
   "source": [
    "list2"
   ]
  },
  {
   "cell_type": "code",
   "execution_count": 19,
   "id": "98b27393",
   "metadata": {},
   "outputs": [
    {
     "ename": "TypeError",
     "evalue": "'<' not supported between instances of 'str' and 'int'",
     "output_type": "error",
     "traceback": [
      "\u001b[1;31m---------------------------------------------------------------------------\u001b[0m",
      "\u001b[1;31mTypeError\u001b[0m                                 Traceback (most recent call last)",
      "Cell \u001b[1;32mIn[19], line 1\u001b[0m\n\u001b[1;32m----> 1\u001b[0m list2\u001b[38;5;241m.\u001b[39msort()\n",
      "\u001b[1;31mTypeError\u001b[0m: '<' not supported between instances of 'str' and 'int'"
     ]
    }
   ],
   "source": [
    "list2.sort()"
   ]
  },
  {
   "cell_type": "code",
   "execution_count": 20,
   "id": "c9c7c982",
   "metadata": {},
   "outputs": [],
   "source": [
    "list2 = [54,24,10,44,66,100]"
   ]
  },
  {
   "cell_type": "code",
   "execution_count": 21,
   "id": "9f72da7a",
   "metadata": {},
   "outputs": [
    {
     "data": {
      "text/plain": [
       "[54, 24, 10, 44, 66, 100]"
      ]
     },
     "execution_count": 21,
     "metadata": {},
     "output_type": "execute_result"
    }
   ],
   "source": [
    "list2"
   ]
  },
  {
   "cell_type": "code",
   "execution_count": 26,
   "id": "1caced27",
   "metadata": {},
   "outputs": [],
   "source": [
    "list2.sort(reverse = False)"
   ]
  },
  {
   "cell_type": "code",
   "execution_count": 27,
   "id": "d5042078",
   "metadata": {},
   "outputs": [
    {
     "data": {
      "text/plain": [
       "[10, 24, 44, 54, 66, 100]"
      ]
     },
     "execution_count": 27,
     "metadata": {},
     "output_type": "execute_result"
    }
   ],
   "source": [
    "list2"
   ]
  },
  {
   "cell_type": "code",
   "execution_count": 28,
   "id": "fb011bcc",
   "metadata": {},
   "outputs": [],
   "source": [
    "n = ['a','b','c','d']"
   ]
  },
  {
   "cell_type": "code",
   "execution_count": 29,
   "id": "c5fd4dce",
   "metadata": {},
   "outputs": [
    {
     "data": {
      "text/plain": [
       "['a', 'b', 'c', 'd']"
      ]
     },
     "execution_count": 29,
     "metadata": {},
     "output_type": "execute_result"
    }
   ],
   "source": [
    "n"
   ]
  },
  {
   "cell_type": "code",
   "execution_count": 30,
   "id": "de3fed06",
   "metadata": {},
   "outputs": [],
   "source": [
    "n.sort(reverse = True)"
   ]
  },
  {
   "cell_type": "code",
   "execution_count": 31,
   "id": "a68e58fa",
   "metadata": {},
   "outputs": [
    {
     "data": {
      "text/plain": [
       "['d', 'c', 'b', 'a']"
      ]
     },
     "execution_count": 31,
     "metadata": {},
     "output_type": "execute_result"
    }
   ],
   "source": [
    "n"
   ]
  },
  {
   "cell_type": "code",
   "execution_count": null,
   "id": "058c2502",
   "metadata": {},
   "outputs": [],
   "source": []
  }
 ],
 "metadata": {
  "kernelspec": {
   "display_name": "Python 3 (ipykernel)",
   "language": "python",
   "name": "python3"
  },
  "language_info": {
   "codemirror_mode": {
    "name": "ipython",
    "version": 3
   },
   "file_extension": ".py",
   "mimetype": "text/x-python",
   "name": "python",
   "nbconvert_exporter": "python",
   "pygments_lexer": "ipython3",
   "version": "3.11.4"
  }
 },
 "nbformat": 4,
 "nbformat_minor": 5
}
